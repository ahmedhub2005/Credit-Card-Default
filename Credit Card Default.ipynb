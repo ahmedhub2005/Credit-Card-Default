{
 "cells": [
  {
   "cell_type": "code",
   "execution_count": null,
   "id": "78311059",
   "metadata": {},
   "outputs": [],
   "source": [
    "import tensorflow as tf \n",
    "from tensorflow import keras\n",
    "import pandas as pd\n",
    "import numpy as np\n",
    "import plotly.express as px\n",
    "import plotly.graph_objects as go\n",
    "from plotly.subplots import make_subplots\n",
    "import matplotlib.pyplot as plt\n",
    "from sklearn.ensemble import RandomForestClassifier\n",
    "from sklearn.ensemble import GradientBoostingClassifier\n",
    "from sklearn.linear_model import LogisticRegression\n",
    "from imblearn.pipeline import Pipeline\n",
    "from imblearn.combine import SMOTETomek\n",
    "from imblearn.over_sampling import SMOTE\n",
    "from sklearn import metrics\n",
    "import seaborn as sns\n",
    "from sklearn.metrics import accuracy_score\n",
    "from sklearn.metrics import recall_score\n",
    "from sklearn.metrics import classification_report, roc_auc_score, confusion_matrix, ConfusionMatrixDisplay\n",
    "from sklearn.preprocessing import LabelEncoder, StandardScaler\n",
    "from sklearn.model_selection import train_test_split, learning_curve, validation_curve\n",
    "from sklearn.metrics import (RocCurveDisplay, PrecisionRecallDisplay,\n",
    "                             ConfusionMatrixDisplay,\n",
    "                             mean_squared_error, r2_score)"
   ]
  },
  {
   "cell_type": "code",
   "execution_count": null,
   "id": "3267fdfd",
   "metadata": {},
   "outputs": [],
   "source": [
    "data=pd.read_csv(r\"uci_credit_card.csv\")"
   ]
  },
  {
   "cell_type": "code",
   "execution_count": null,
   "id": "4f6d0d9e",
   "metadata": {},
   "outputs": [],
   "source": [
    "data.head(5)"
   ]
  },
  {
   "cell_type": "code",
   "execution_count": null,
   "id": "383d6442",
   "metadata": {},
   "outputs": [],
   "source": [
    "data.describe()"
   ]
  },
  {
   "cell_type": "code",
   "execution_count": null,
   "id": "e21a0a9c",
   "metadata": {},
   "outputs": [],
   "source": [
    "data.info()"
   ]
  },
  {
   "cell_type": "markdown",
   "id": "02870c1a",
   "metadata": {},
   "source": [
    "📊 EDA"
   ]
  },
  {
   "cell_type": "code",
   "execution_count": null,
   "id": "a0cf7ef0",
   "metadata": {},
   "outputs": [],
   "source": [
    "plt.Figure(figsize=(1000,500))\n",
    "sns.histplot(data=data , x=\"default.payment.next.month\")\n",
    "plt.title(\"Distribution of payment\")\n",
    "plt.show()\n"
   ]
  },
  {
   "cell_type": "code",
   "execution_count": null,
   "id": "d854b421",
   "metadata": {},
   "outputs": [],
   "source": [
    "data[\"SEX\"].replace({\n",
    "    \"1\":\"Male\",\n",
    "    \"2\":\"Female\"\n",
    "})"
   ]
  },
  {
   "cell_type": "code",
   "execution_count": null,
   "id": "a3ecb19e",
   "metadata": {},
   "outputs": [],
   "source": [
    "data[\"default.payment.next.month\"].replace({\n",
    "    \"1\":\"Yes\",\n",
    "    \"0\":\"No\"\n",
    "})"
   ]
  },
  {
   "cell_type": "code",
   "execution_count": null,
   "id": "bd2f66ef",
   "metadata": {},
   "outputs": [],
   "source": [
    "import plotly.graph_objects as go\n",
    "from plotly.subplots import make_subplots\n",
    "\n",
    "#default.payment.next.month= D.P.N.M\n",
    "g_labels = ['Male', 'Female']\n",
    "c_labels = ['No', 'Yes']\n",
    "fig = make_subplots(rows=1, cols=2, specs=[[{'type':'domain'}, {'type':'domain'}]])\n",
    "fig.add_trace(go.Pie(labels=g_labels, values=data['SEX'].value_counts(), name=\"Gender\"),\n",
    "              1, 1)\n",
    "fig.add_trace(go.Pie(labels=c_labels, values=data['default.payment.next.month'].value_counts(), name=\"D.P.N.M\"),\n",
    "              1, 2)\n",
    "\n",
    "\n",
    "fig.update_traces(hole=.4, hoverinfo=\"label+percent+name\", textfont_size=16)\n",
    "\n",
    "fig.update_layout(\n",
    "    title_text=\"Gender and D.P.N.M Distributions\",\n",
    "\n",
    "    annotations=[dict(text='Gender', x=0.19, y=0.5, font_size=20, showarrow=False),\n",
    "                 dict(text='D.P.N.M', x=0.82, y=0.5, font_size=20, showarrow=False)])\n",
    "fig.show()"
   ]
  },
  {
   "cell_type": "code",
   "execution_count": null,
   "id": "b5521776",
   "metadata": {},
   "outputs": [],
   "source": [
    "plt.figure(figsize=(16,12))\n",
    "corr = data.corr()\n",
    "mask = np.triu(np.ones_like(corr, dtype=bool))\n",
    "sns.heatmap(corr, mask=mask, annot=True, fmt=\".2f\", cmap=\"vlag\", linewidths=.5, cbar_kws={\"shrink\":.6})\n",
    "plt.title(\"Correlation matrix — data data\")\n",
    "plt.tight_layout()\n",
    "plt.show()\n"
   ]
  },
  {
   "cell_type": "code",
   "execution_count": null,
   "id": "4e51cb5a",
   "metadata": {},
   "outputs": [],
   "source": [
    "pay_cols = ['PAY_0','PAY_2','PAY_3','PAY_4','PAY_5','PAY_6']\n",
    "\n",
    "for col in pay_cols:\n",
    "    table = data.groupby(col)['default.payment.next.month'].agg(['count','mean']).rename(columns={'mean':'default_rate'})\n",
    "    display(table.sort_values('count', ascending=False).head(12))  # تبص على أشهر القيم\n",
    "    plt.figure(figsize=(6,4))\n",
    "    sns.barplot(x=table.index, y=table['default_rate'])\n",
    "    plt.title(f'Default rate by {col}')\n",
    "    plt.xlabel(col)\n",
    "    plt.ylabel('Default rate')\n",
    "    plt.ylim(0,1)\n",
    "    plt.tight_layout()\n",
    "    plt.show()\n"
   ]
  },
  {
   "cell_type": "code",
   "execution_count": null,
   "id": "5306851f",
   "metadata": {},
   "outputs": [],
   "source": [
    "bill_cols = [f'BILL_AMT{i}' for i in range(1,7)]\n",
    "pay_amt_cols = [f'PAY_AMT{i}' for i in range(1,7)]\n",
    "\n",
    "\n",
    "summary = data.groupby('default.payment.next.month')[bill_cols + pay_amt_cols].agg(['mean','median']).transpose()\n",
    "display(summary.head(20))\n",
    "\n",
    "# Boxplots \n",
    "for col in bill_cols + pay_amt_cols:\n",
    "    plt.figure(figsize=(8,4))\n",
    "    sns.boxplot(x='default.payment.next.month', y=col, data=data)\n",
    "    plt.title(f'{col} by Default (0=no, 1=yes)')\n",
    "    plt.tight_layout()\n",
    "    plt.show()\n"
   ]
  },
  {
   "cell_type": "code",
   "execution_count": null,
   "id": "58e7ae43",
   "metadata": {},
   "outputs": [],
   "source": [
    "# Age distribution\n",
    "plt.figure(figsize=(8,5))\n",
    "sns.histplot(data['AGE'], kde=True, bins=20, color=\"skyblue\")\n",
    "plt.title(\"Age Distribution\")\n",
    "plt.show()"
   ]
  },
  {
   "cell_type": "code",
   "execution_count": null,
   "id": "84c6f04a",
   "metadata": {},
   "outputs": [],
   "source": [
    "# Gender distribution\n",
    "fig = px.histogram(data, x=\"SEX\", color=\"default.payment.next.month\", barmode=\"group\",\n",
    "                   title=\"Gender Distribution by ASD Class\")\n",
    "fig.show()"
   ]
  },
  {
   "cell_type": "code",
   "execution_count": null,
   "id": "079dbee3",
   "metadata": {},
   "outputs": [],
   "source": [
    "# Default distribution\n",
    "plt.subplot(1, 2, 2)\n",
    "sns.countplot(data=data, x=\"default.payment.next.month\", palette=\"Set1\")\n",
    "plt.title(\"Default Payment Next Month\", fontsize=14)\n",
    "plt.xlabel(\"Default (0=No, 1=Yes)\")\n",
    "plt.ylabel(\"Count\")\n",
    "plt.tight_layout()\n",
    "plt.show()"
   ]
  },
  {
   "cell_type": "code",
   "execution_count": null,
   "id": "6d67e161",
   "metadata": {},
   "outputs": [],
   "source": [
    "# Credit Limit distribution\n",
    "plt.subplot(1,2,2)\n",
    "sns.histplot(data[\"LIMIT_BAL\"], bins=30, kde=True, color=\"salmon\")\n",
    "plt.title(\"Credit Limit Distribution\", fontsize=14)\n",
    "plt.xlabel(\"Credit Limit (LIMIT_BAL)\")\n",
    "plt.ylabel(\"Count\")\n",
    "\n",
    "plt.tight_layout()\n",
    "plt.show()"
   ]
  },
  {
   "cell_type": "code",
   "execution_count": null,
   "id": "ae514e06",
   "metadata": {},
   "outputs": [],
   "source": [
    "plt.figure(figsize=(8,6))\n",
    "sns.boxplot(x=\"default.payment.next.month\", y=\"AGE\", data=data, palette=\"Set3\")\n",
    "plt.title(\"Age vs Default\", fontsize=14)\n",
    "plt.xlabel(\"Default (0=No, 1=Yes)\")\n",
    "plt.ylabel(\"Age\")\n",
    "plt.show()\n"
   ]
  },
  {
   "cell_type": "code",
   "execution_count": null,
   "id": "9d5b5055",
   "metadata": {},
   "outputs": [],
   "source": [
    "plt.figure(figsize=(8,6))\n",
    "sns.countplot(x=\"EDUCATION\", hue=\"default.payment.next.month\", data=data, palette=\"Set2\")\n",
    "plt.title(\"Education vs Default\", fontsize=14)\n",
    "plt.xlabel(\"Education (1=Graduate School, 2=University, 3=High School, 4=Others)\")\n",
    "plt.ylabel(\"Count\")\n",
    "plt.legend(title=\"Default (0=No, 1=Yes)\")\n",
    "plt.show()\n"
   ]
  },
  {
   "cell_type": "code",
   "execution_count": null,
   "id": "b8a1934c",
   "metadata": {},
   "outputs": [],
   "source": [
    "plt.figure(figsize=(8,6))\n",
    "sns.countplot(x=\"MARRIAGE\", hue=\"default.payment.next.month\", data=data, palette=\"coolwarm\")\n",
    "plt.title(\"Marriage vs Default\", fontsize=14)\n",
    "plt.xlabel(\"Marriage (1=Married, 2=Single, 3=Others)\")\n",
    "plt.ylabel(\"Count\")\n",
    "plt.legend(title=\"Default (0=No, 1=Yes)\")\n",
    "plt.show()\n"
   ]
  },
  {
   "cell_type": "code",
   "execution_count": null,
   "id": "7259781d",
   "metadata": {},
   "outputs": [],
   "source": [
    "sample = data.sample(1000, random_state=42)\n",
    "sns.pairplot(sample[[\"LIMIT_BAL\", \"AGE\", \"SEX\", \"EDUCATION\", \"default.payment.next.month\"]],\n",
    "             hue=\"default.payment.next.month\", diag_kind=\"kde\", palette=\"husl\")\n",
    "plt.show()\n"
   ]
  },
  {
   "cell_type": "markdown",
   "id": "2fa0e409",
   "metadata": {},
   "source": [
    " These visualizations will give you:\n",
    "\n",
    "General distributions (Age, Credit Limit, Gender, Default).\n",
    "\n",
    "Relationships between categorical features (Gender, Education, Marriage) and default.\n",
    "\n",
    "Correlation overview with heatmap.\n",
    "\n",
    "Pairwise relationships with pairplot."
   ]
  },
  {
   "cell_type": "markdown",
   "id": "880c2ed3",
   "metadata": {},
   "source": [
    "Data PreProcessing"
   ]
  },
  {
   "cell_type": "code",
   "execution_count": null,
   "id": "a36bf8ce",
   "metadata": {},
   "outputs": [],
   "source": [
    "print(\"Counts:\")\n",
    "print(data['default.payment.next.month'].value_counts())\n",
    "print(\"\\nRelative frequencies:\")\n",
    "print(data['default.payment.next.month'].value_counts(normalize=True))\n"
   ]
  },
  {
   "cell_type": "code",
   "execution_count": null,
   "id": "6bc8fd36",
   "metadata": {},
   "outputs": [],
   "source": [
    "pay_corr = corr.loc[pay_cols + bill_cols + pay_amt_cols, 'default.payment.next.month'].sort_values(ascending=False)\n",
    "print(\"Top correlated features with default:\")\n",
    "display(pay_corr.head(20))\n"
   ]
  },
  {
   "cell_type": "code",
   "execution_count": null,
   "id": "f79a0358",
   "metadata": {},
   "outputs": [],
   "source": [
    "# Remove duplicate rows if any\n",
    "data.drop_duplicates(inplace=True)"
   ]
  },
  {
   "cell_type": "code",
   "execution_count": null,
   "id": "884f67fc",
   "metadata": {},
   "outputs": [],
   "source": [
    "data=data.drop([\"ID\"] , axis=1)"
   ]
  },
  {
   "cell_type": "code",
   "execution_count": null,
   "id": "76a9e8d5",
   "metadata": {},
   "outputs": [],
   "source": [
    "scaler =  StandardScaler()\n",
    "# Select numeric columns for scaling\n",
    "num_cols = [\"LIMIT_BAL\", \"AGE\"] + [col for col in data.columns if \"BILL_AMT\" in col or \"PAY_AMT\" in col]\n",
    "\n",
    "data[num_cols] = scaler.fit_transform(data[num_cols])\n",
    "data[\"default.payment.next.month\"] = LabelEncoder().fit_transform(data[\"default.payment.next.month\"])\n",
    "\n",
    "categorical_cols = [\"SEX\", \"EDUCATION\", \"MARRIAGE\"]\n",
    "data = pd.get_dummies(data, columns=categorical_cols, drop_first=True)"
   ]
  },
  {
   "cell_type": "code",
   "execution_count": null,
   "id": "1659c6b4",
   "metadata": {},
   "outputs": [],
   "source": [
    "\n",
    "y=data[\"default.payment.next.month\"]\n",
    "x=data.drop([\"default.payment.next.month\"] , axis=1)\n",
    "features = x.columns\n",
    "x = scaler.fit_transform(x)\n",
    "x_train, x_test, y_train, y_test = train_test_split(x, y, test_size=0.2, random_state=42 , stratify=y)\n",
    "x_train.shape  ,y_train.shape\n"
   ]
  },
  {
   "cell_type": "code",
   "execution_count": null,
   "id": "4bb1306d",
   "metadata": {},
   "outputs": [],
   "source": [
    "x.shape"
   ]
  },
  {
   "cell_type": "markdown",
   "id": "99bc9d3f",
   "metadata": {},
   "source": [
    "✅Data Preprocessing:\n",
    "\n",
    "Remove duplicates\n",
    "\n",
    "Encode categorical variables\n",
    "\n",
    "Scale numerical values\n",
    "\n",
    "Train-test split\n",
    "\n",
    "Handle class imbalance"
   ]
  },
  {
   "cell_type": "code",
   "execution_count": null,
   "id": "3f1c8be5",
   "metadata": {},
   "outputs": [],
   "source": [
    "from sklearn.metrics import accuracy_score, classification_report, RocCurveDisplay, PrecisionRecallDisplay, ConfusionMatrixDisplay\n",
    "from sklearn.model_selection import learning_curve\n",
    "from sklearn.ensemble import RandomForestClassifier, GradientBoostingClassifier\n",
    "from sklearn.linear_model import LogisticRegression\n",
    "from imblearn.combine import SMOTETomek\n",
    "import matplotlib.pyplot as plt\n",
    "import numpy as np\n",
    "\n",
    "# -------------------------\n",
    "# Define models\n",
    "# -------------------------\n",
    "models = {\n",
    "    \"RandomForestClassifier\": RandomForestClassifier(class_weight=\"balanced\", random_state=42, n_estimators=100),\n",
    "    \"GradientBoostingClassifier\": GradientBoostingClassifier(random_state=42, n_estimators=100),\n",
    "    \"LogisticRegression\": LogisticRegression(class_weight=\"balanced\", random_state=42, max_iter=500, solver=\"liblinear\")\n",
    "}\n",
    "\n",
    "# -------------------------\n",
    "# Helper function to train & evaluate\n",
    "# -------------------------\n",
    "def evaluate_models(models, X_train, y_train, X_test, y_test, phase=\"Before SMOTE\"):\n",
    "    print(f\"\\n========== {phase.upper()} ==========\")\n",
    "    \n",
    "    for name, model in models.items():\n",
    "        print(f\"\\n{name} ({phase})\")\n",
    "        model.fit(X_train, y_train)\n",
    "        y_pred = model.predict(X_test)\n",
    "\n",
    "        # Metrics\n",
    "        accuracy = accuracy_score(y_test, y_pred)\n",
    "        print(f\"{name} - Accuracy: {accuracy:.4f}\")\n",
    "        print(classification_report(y_test, y_pred, digits=3))\n",
    "\n",
    "        # Visualizations\n",
    "        RocCurveDisplay.from_estimator(model, X_test, y_test)\n",
    "        plt.title(f\"ROC Curve ({phase}): {name}\")\n",
    "        plt.show()\n",
    "\n",
    "        PrecisionRecallDisplay.from_estimator(model, X_test, y_test)\n",
    "        plt.title(f\"Precision-Recall ({phase}): {name}\")\n",
    "        plt.show()\n",
    "\n",
    "        ConfusionMatrixDisplay.from_estimator(model, X_test, y_test)\n",
    "        plt.title(f\"Confusion Matrix ({phase}): {name}\")\n",
    "        plt.show()\n",
    "\n",
    "        # Learning curve\n",
    "        train_sizes, train_scores, val_scores = learning_curve(\n",
    "            model, X_train, y_train, cv=5, scoring='f1',\n",
    "            train_sizes=np.linspace(0.1, 1.0, 5), n_jobs=-1\n",
    "        )\n",
    "        plt.plot(train_sizes, train_scores.mean(axis=1), marker='o', label='Train')\n",
    "        plt.plot(train_sizes, val_scores.mean(axis=1), marker='o', label='Validation')\n",
    "        plt.xlabel('Training examples')\n",
    "        plt.ylabel('F1 Score')\n",
    "        plt.title(f'Learning Curve ({phase}): {name}')\n",
    "        plt.legend()\n",
    "        plt.show()\n",
    "\n",
    "\n",
    "# -------------------------\n",
    "# 1) Before SMOTE\n",
    "# -------------------------\n",
    "evaluate_models(models, x_train, y_train, x_test, y_test, phase=\"Before SMOTE\")\n",
    "\n",
    "# -------------------------\n",
    "# 2) After SMOTE\n",
    "# -------------------------\n",
    "smt = SMOTETomek(random_state=42)\n",
    "x_train_sm, y_train_sm = smt.fit_resample(x_train, y_train)\n",
    "\n",
    "evaluate_models(models, x_train_sm, y_train_sm, x_test, y_test, phase=\"After SMOTE\")\n",
    "\n"
   ]
  },
  {
   "cell_type": "code",
   "execution_count": null,
   "id": "e7dd566a",
   "metadata": {},
   "outputs": [],
   "source": [
    "\n",
    "model1 = tf.keras.Sequential([\n",
    "    tf.keras.layers.Input(shape=[30]),\n",
    "    \n",
    "    tf.keras.layers.Dense(64, activation=tf.nn.leaky_relu),\n",
    "    tf.keras.layers.BatchNormalization(),\n",
    "    tf.keras.layers.Dropout(0.3),\n",
    "    \n",
    "    tf.keras.layers.Dense(32, activation=tf.nn.leaky_relu),\n",
    "    tf.keras.layers.BatchNormalization(),\n",
    "    tf.keras.layers.Dropout(0.4),\n",
    "    \n",
    "    tf.keras.layers.Dense(1, activation=tf.nn.sigmoid)\n",
    "])\n",
    "model1.summary()\n",
    "\n",
    "\n",
    "\n"
   ]
  },
  {
   "cell_type": "code",
   "execution_count": null,
   "id": "6d580d8d",
   "metadata": {},
   "outputs": [],
   "source": [
    "# Callbacks\n",
    "early_stop = tf.keras.callbacks.EarlyStopping(monitor='val_loss', patience=5, restore_best_weights=True)\n",
    "lr_schedule = tf.keras.callbacks.ReduceLROnPlateau(monitor='val_loss', factor=0.5, patience=3)\n",
    "\n",
    "model1.compile(optimizer='adam', loss='binary_crossentropy',metrics=['accuracy'])\n",
    "\n",
    "hist = model1.fit(\n",
    "    x_train, y_train,\n",
    "    epochs=50,\n",
    "    batch_size=32,\n",
    "    validation_split=0.2,\n",
    "    callbacks=[early_stop, lr_schedule]\n",
    ")"
   ]
  },
  {
   "cell_type": "code",
   "execution_count": null,
   "id": "8a1f99e2",
   "metadata": {},
   "outputs": [],
   "source": [
    "\n",
    "plt.figure(figsize=(12,5))\n",
    "\n",
    "# Loss Curve\n",
    "plt.subplot(1,2,1)\n",
    "plt.plot(hist.history['loss'], label='Train Loss')\n",
    "if 'val_loss' in hist.history:\n",
    "    plt.plot(hist.history['val_loss'], label='Validation Loss')\n",
    "plt.xlabel('Epochs')\n",
    "plt.ylabel('Loss')\n",
    "plt.title('Loss Curve (Sequential)')\n",
    "plt.legend()\n",
    "\n",
    "# Accuracy Curve\n",
    "plt.subplot(1,2,2)\n",
    "plt.plot(hist.history['accuracy'], label='Train Accuracy')\n",
    "if 'val_accuracy' in hist.history:\n",
    "    plt.plot(hist.history['val_accuracy'], label='Validation Accuracy')\n",
    "plt.xlabel('Epochs')\n",
    "plt.ylabel('Accuracy')\n",
    "plt.title('Accuracy Curve (Sequential)')\n",
    "plt.legend()\n",
    "\n",
    "plt.show()"
   ]
  },
  {
   "cell_type": "code",
   "execution_count": null,
   "id": "0301785a",
   "metadata": {},
   "outputs": [],
   "source": [
    "test_loss, test_acc = model1.evaluate(x_test, y_test, verbose=0)\n",
    "print(f\"📊 Test Accuracy: {test_acc:.4f}\")\n",
    "print(f\"📉 Test Loss: {test_loss:.4f}\")"
   ]
  },
  {
   "cell_type": "code",
   "execution_count": null,
   "id": "d8dee980",
   "metadata": {},
   "outputs": [],
   "source": [
    "import joblib\n",
    "best_model=GradientBoostingClassifier()\n",
    "best_model.fit(x_train,y_train)\n",
    "joblib.dump(best_model, \"credit.pkl\")\n",
    "\n",
    "\n"
   ]
  }
 ],
 "metadata": {
  "kernelspec": {
   "display_name": "base",
   "language": "python",
   "name": "python3"
  },
  "language_info": {
   "codemirror_mode": {
    "name": "ipython",
    "version": 3
   },
   "file_extension": ".py",
   "mimetype": "text/x-python",
   "name": "python",
   "nbconvert_exporter": "python",
   "pygments_lexer": "ipython3",
   "version": "3.13.5"
  }
 },
 "nbformat": 4,
 "nbformat_minor": 5
}
